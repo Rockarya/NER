{
 "cells": [
  {
   "cell_type": "code",
   "execution_count": 32,
   "metadata": {},
   "outputs": [
    {
     "name": "stderr",
     "output_type": "stream",
     "text": [
      "100%|██████████| 20795/20795 [00:00<00:00, 49112.69it/s]"
     ]
    },
    {
     "name": "stdout",
     "output_type": "stream",
     "text": [
      "['O', 'B-Organisation', 'I-Organisation', 'B-Temporal', 'I-Temporal', 'B-Nationality', 'B-Location', 'I-Location', 'B-Person', 'I-Person', 'B-DocumentReference', 'I-DocumentReference', 'B-Money', 'I-Money', 'B-Quantity', 'B-MilitaryPlatform', 'I-MilitaryPlatform', 'B-Weapon', 'I-Weapon', 'I-Quantity', 'I-Nationality', '']\n"
     ]
    },
    {
     "name": "stderr",
     "output_type": "stream",
     "text": [
      "\n"
     ]
    }
   ],
   "source": [
    "from tqdm import tqdm\n",
    "from nltk import pos_tag\n",
    "\n",
    "main_dict = dict()\n",
    "entitites = set()\n",
    "filename = \"./re3d/train.txt\"\n",
    "line_length = 20795\n",
    "final_list = []\n",
    "ignore_list = ['B-Organisation', 'I-Organisation', 'B-Temporal', 'I-Temporal', 'B-Person', 'I-Person']\n",
    "cur_line = []\n",
    "\n",
    "with open(filename, 'r') as file:\n",
    "    for i in tqdm(range(line_length)):\n",
    "        text = file.readline()\n",
    "        \n",
    "        text = text.split(\"\\t\")\n",
    "        if len(text) < 2:\n",
    "            if len(cur_line) > 0:\n",
    "                new_line = pos_tag(cur_line)\n",
    "                for j in range(len(new_line)):\n",
    "                    final_list[j-len(new_line)].append(new_line[j][1])\n",
    "                cur_line = []  \n",
    "            continue\n",
    "        text[1] = text[1][:-1]\n",
    "        cur_line.append(text[0])\n",
    "        final_list.append([])\n",
    "        final_list[-1] = text.copy()\n",
    "        if text[1] in ignore_list:\n",
    "            final_list[-1][1] = 'O'\n",
    "        if text[1] not in main_dict:\n",
    "            main_dict[text[1]] = dict()\n",
    "        if text[0] not in main_dict[text[1]]:\n",
    "            main_dict[text[1]][text[0]] = 0\n",
    "        main_dict[text[1]][text[0]] += 1\n",
    "\n",
    "for word in main_dict:\n",
    "    main_dict[word] = sorted(main_dict[word].items(), key=lambda item: -item[1])\n",
    "        \n",
    "main_dict[\"O\"] = 0\n",
    "list = []\n",
    "for word in main_dict:\n",
    "    list.append(word)\n",
    "print(list)"
   ]
  },
  {
   "cell_type": "code",
   "execution_count": 37,
   "metadata": {},
   "outputs": [
    {
     "name": "stdout",
     "output_type": "stream",
     "text": [
      "[',', '-', 'year', 'hours', '24', 'days', 'of', 'December', 'years', '2006', 'week', '2016', 'November', 'past', 'the', 'last', '17', 'day', 'months', 'Thanksgiving', 'Dec.', '15', '13', 'weeks', '2005', 'ago', 'Day', 'night', '26', 'end', '27', 'February', '2015', 'four', 'morning', '6', '10', '19', 'following', '2007', '7', 'festive', 'just', 'before', 'Muslim', 'Eid', 'celebration', '14th', 'later', '3', 'Z', \"'\", 'Mean', 'Time', '2008', 'Sunday', 'May', '88', '91', 'first', 'long', '1979', 'January', 'eve', 'a', 'New', 'Year', '2013', 'month', 'a.m.', '29', '5', '1', '16', '18', 'coming', 'and', '2014', 'two', 'March', 'three', 'attack', 'minutes', 'June', 'from', 'late', 'to', 'early', 'evening', 'September', '20', 'plus', '6th', '7th', '25', '2011', 'summer', '2017', 'on', 'Thursday', '28', 'July', '2009', 'weekend', 'August', '23', 'in', 'or', 'seven', '2', '11']\n",
      "[(',', 11), ('-', 8), ('year', 8), ('hours', 7), ('24', 6), ('days', 6), ('of', 6), ('December', 6), ('years', 5), ('2006', 5), ('week', 5), ('2016', 5), ('November', 4), ('past', 4), ('the', 4), ('last', 4), ('17', 4), ('day', 4), ('months', 4), ('Thanksgiving', 3), ('Dec.', 3), ('15', 3), ('13', 3), ('weeks', 3), ('2005', 2), ('ago', 2), ('Day', 2), ('night', 2), ('26', 2), ('end', 2), ('27', 2), ('February', 2), ('2015', 2), ('four', 2), ('morning', 2), ('6', 2), ('10', 2), ('19', 2), ('following', 2), ('2007', 2), ('7', 2), ('festive', 1), ('just', 1), ('before', 1), ('Muslim', 1), ('Eid', 1), ('celebration', 1), ('14th', 1), ('later', 1), ('3', 1), ('Z', 1), (\"'\", 1), ('Mean', 1), ('Time', 1), ('2008', 1), ('Sunday', 1), ('May', 1), ('88', 1), ('91', 1), ('first', 1), ('long', 1), ('1979', 1), ('January', 1), ('eve', 1), ('a', 1), ('New', 1), ('Year', 1), ('2013', 1), ('month', 1), ('a.m.', 1), ('29', 1), ('5', 1), ('1', 1), ('16', 1), ('18', 1), ('coming', 1), ('and', 1), ('2014', 1), ('two', 1), ('March', 1), ('three', 1), ('attack', 1), ('minutes', 1), ('June', 1), ('from', 1), ('late', 1), ('to', 1), ('early', 1), ('evening', 1), ('September', 1), ('20', 1), ('plus', 1), ('6th', 1), ('7th', 1), ('25', 1), ('2011', 1), ('summer', 1), ('2017', 1), ('on', 1), ('Thursday', 1), ('28', 1), ('July', 1), ('2009', 1), ('weekend', 1), ('August', 1), ('23', 1), ('in', 1), ('or', 1), ('seven', 1), ('2', 1), ('11', 1)]\n",
      "\n",
      "[('the', 16), ('today', 13), ('Dec.', 6), ('February', 6), ('this', 5), ('November', 5), ('October', 5), ('May', 4), ('Jan.', 4), ('Last', 4), ('December', 4), ('January', 3), ('yesterday', 3), ('last', 3), ('Nov.', 3), ('two', 3), ('12', 3), ('early', 2), ('four', 2), ('Thursday', 2), ('11', 2), ('23', 2), ('nearly', 2), ('2004', 2), ('Saturday', 2), ('1991', 2), ('September', 2), ('10', 2), ('Friday', 2), ('Monday', 2), ('2', 2), ('Tuesday', 2), ('3', 2), ('2016', 2), ('Today', 2), ('years', 1), ('Thanksgiving', 1), ('a', 1), ('2003', 1), ('2006', 1), ('1972', 1), ('tomorrow', 1), ('5', 1), ('Sunday', 1), (\"'\", 1), ('Greenwich', 1), ('seven', 1), ('4', 1), ('1980', 1), ('1990', 1), ('29', 1), ('past', 1), ('1989', 1), ('1977', 1), ('next', 1), ('mid', 1), ('spring', 1), ('weeks', 1), ('months', 1), ('This', 1), ('April', 1), ('Oct.', 1), ('every', 1), ('1956', 1), ('2011', 1), ('eight', 1), ('2017', 1), ('recent', 1), ('2012', 1), ('45', 1), ('2008', 1), ('13', 1), ('25', 1), ('daylight', 1), ('19', 1), ('The', 1), ('one', 1), ('June', 1), ('11am', 1), ('2001', 1), ('Since', 1), ('2007', 1), ('1988', 1), ('Later', 1), ('six', 1), ('Ramadan', 1)]\n"
     ]
    }
   ],
   "source": [
    "to_print = []\n",
    "which = 'I-Temporal'\n",
    "for word in main_dict[which]:\n",
    "    # if word[1] > 1:\n",
    "    to_print.append(word[0])\n",
    "\n",
    "print(to_print)\n",
    "print(main_dict['I-Temporal'])\n",
    "print()\n",
    "print(main_dict['B-Temporal'])\n",
    "# final_list[:200]"
   ]
  },
  {
   "cell_type": "code",
   "execution_count": 18,
   "metadata": {},
   "outputs": [
    {
     "name": "stdout",
     "output_type": "stream",
     "text": [
      "['', 'the', 'hospital', 'has', 'facilities', 'for', 'mri', 'and', 'ct', 'scan', ',', 'a', 'gamma', 'camera', 'and', 'lithotripsy', 'device', '.', '\\n']\n",
      "[('', 'IN'), ('the', 'DT'), ('hospital', 'NN'), ('has', 'VBZ'), ('facilities', 'NNS'), ('for', 'IN'), ('mri', 'NN'), ('and', 'CC'), ('ct', 'JJ'), ('scan', 'NN'), (',', ','), ('a', 'DT'), ('gamma', 'NN'), ('camera', 'NN'), ('and', 'CC'), ('lithotripsy', 'JJ'), ('device', 'NN'), ('.', '.'), ('\\n', 'VB'), ('Palash', 'NNP')]\n"
     ]
    }
   ],
   "source": [
    "from nltk import pos_tag\n",
    "filename = \"./re3d/sentences.txt\"\n",
    "\n",
    "cnt = 0\n",
    "with open(filename, 'r') as file:\n",
    "    while cnt < 2:\n",
    "        text = file.readline()\n",
    "        cnt += 1\n",
    "print(text.split(\" \"))\n",
    "print(pos_tag((text.split(\" \")+['Palash'])))"
   ]
  }
 ],
 "metadata": {
  "interpreter": {
   "hash": "05846dba5a63881521995e4873c40bc366d65f96d65e5e13c55171c3c8697e3d"
  },
  "kernelspec": {
   "display_name": "Python 3.10.4 ('.cv0env')",
   "language": "python",
   "name": "python3"
  },
  "language_info": {
   "codemirror_mode": {
    "name": "ipython",
    "version": 3
   },
   "file_extension": ".py",
   "mimetype": "text/x-python",
   "name": "python",
   "nbconvert_exporter": "python",
   "pygments_lexer": "ipython3",
   "version": "3.10.4"
  },
  "orig_nbformat": 4
 },
 "nbformat": 4,
 "nbformat_minor": 2
}
