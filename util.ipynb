{
 "cells": [
  {
   "cell_type": "code",
   "execution_count": 2,
   "metadata": {},
   "outputs": [
    {
     "name": "stdout",
     "output_type": "stream",
     "text": [
      "{}\n"
     ]
    }
   ],
   "source": [
    "main_dict = dict()\n",
    "entitites = set()\n",
    "filename = \"./re3d/train.txt\"\n",
    "\n",
    "with open(filename, 'r') as file:\n",
    "    while True:\n",
    "        text = file.readline()\n",
    "        if not text:\n",
    "            break\n",
    "        text = text.split(\" \")\n",
    "        if len(text) < 2:\n",
    "            continue\n",
    "        if text[1] not in main_dict:\n",
    "            main_dict[text[1]] = dict()\n",
    "        if text[0] not in main_dict[text[1]]:\n",
    "            main_dict[text[1]][text[0]] = 0\n",
    "        main_dict[text[1]][text[0]] += 1\n",
    "\n",
    "for word in main_dict:\n",
    "    main_dict[word] = main_dict[word].sort()\n",
    "        \n",
    "print(main_dict)"
   ]
  }
 ],
 "metadata": {
  "interpreter": {
   "hash": "05846dba5a63881521995e4873c40bc366d65f96d65e5e13c55171c3c8697e3d"
  },
  "kernelspec": {
   "display_name": "Python 3.10.4 ('.cv0env')",
   "language": "python",
   "name": "python3"
  },
  "language_info": {
   "codemirror_mode": {
    "name": "ipython",
    "version": 3
   },
   "file_extension": ".py",
   "mimetype": "text/x-python",
   "name": "python",
   "nbconvert_exporter": "python",
   "pygments_lexer": "ipython3",
   "version": "3.10.4"
  },
  "orig_nbformat": 4
 },
 "nbformat": 4,
 "nbformat_minor": 2
}
