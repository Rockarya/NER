{
 "cells": [
  {
   "cell_type": "code",
   "execution_count": 30,
   "metadata": {},
   "outputs": [],
   "source": [
    "import numpy as np \n",
    "from scipy.sparse import dok_matrix, vstack, csr_matrix\n",
    "from snorkel.labeling import PandasLFApplier, LFApplier, LFAnalysis, labeling_function\n",
    "from sklearn.metrics import classification_report\n",
    "import seaborn as sns\n",
    "import matplotlib.pyplot as plt\n",
    "import pandas as pd\n",
    "from sklearn.metrics import confusion_matrix\n",
    "from sklearn.metrics import f1_score"
   ]
  },
  {
   "cell_type": "code",
   "execution_count": 31,
   "metadata": {},
   "outputs": [],
   "source": [
    "sents = []\n",
    "iob_tags = []\n",
    "text = \"\"\n",
    "# filename = './conll2003/train_tokens.txt'\n",
    "filename = './re3d/train.txt'\n",
    "\n",
    "with open(filename, 'r') as file:\n",
    "    lst = []\n",
    "    while True:\n",
    "        word_lst = file.readline().lower().split(\"\\t\")\n",
    "        word = word_lst[0]\n",
    "        if not word:\n",
    "            break\n",
    "        text += \" \" + word\n",
    "\n",
    "        if word == '\\n':\n",
    "            sents.append(lst)\n",
    "            lst = []\n",
    "        else:\n",
    "            lst.append(word)\n",
    "            iob_tags.append(word_lst[-1].split('\\n')[0])\n",
    "\n",
    "    sents.append(lst)"
   ]
  },
  {
   "cell_type": "markdown",
   "metadata": {},
   "source": [
    "### Distinct Types of IOB Tokens"
   ]
  },
  {
   "cell_type": "code",
   "execution_count": 32,
   "metadata": {},
   "outputs": [
    {
     "name": "stdout",
     "output_type": "stream",
     "text": [
      "{'b-money', 'i-nationality', 'i-organisation', 'b-documentreference', 'i-money', 'i-temporal', 'b-location', 'i-documentreference', 'i-quantity', 'b-person', 'i-weapon', 'b-nationality', 'b-organisation', 'b-militaryplatform', 'i-person', 'b-quantity', 'i-location', 'b-temporal', 'i-militaryplatform', 'b-weapon', 'o'}\n"
     ]
    }
   ],
   "source": [
    "dist = set()\n",
    "for tok in iob_tags:\n",
    "    dist.add(tok)\n",
    "\n",
    "print(dist)"
   ]
  },
  {
   "cell_type": "code",
   "execution_count": 33,
   "metadata": {},
   "outputs": [
    {
     "name": "stdout",
     "output_type": "stream",
     "text": [
      "Number of iob tags are:  20030\n",
      "Number of tokens are:  20030\n"
     ]
    }
   ],
   "source": [
    "# Here we are checking and ensuring that both number of tokens in sentences and number of tags in iob_tags are same\n",
    "print('Number of iob tags are: ',len(iob_tags))\n",
    "\n",
    "l=0\n",
    "for i in range(len(sents)):\n",
    "    l+=len(sents[i])\n",
    "\n",
    "print('Number of tokens are: ',l)"
   ]
  },
  {
   "cell_type": "code",
   "execution_count": 34,
   "metadata": {},
   "outputs": [
    {
     "name": "stdout",
     "output_type": "stream",
     "text": [
      "['but', 'nobody', 'can', 'leave', 'now', '.']\n"
     ]
    }
   ],
   "source": [
    "print(sents[6])"
   ]
  },
  {
   "cell_type": "code",
   "execution_count": 35,
   "metadata": {},
   "outputs": [],
   "source": [
    "# converting iob tags to numerical tags\n",
    "o = 0\n",
    "b_org = 1\n",
    "i_org = 2\n",
    "b_quan = 3\n",
    "i_quan = 4\n",
    "b_weapon = 5\n",
    "i_weapon = 6\n",
    "b_doc = 7\n",
    "i_doc = 8\n",
    "b_person = 9\n",
    "i_person = 10\n",
    "b_nationality = 11\n",
    "i_nationality = 12\n",
    "b_money = 13\n",
    "i_money = 14\n",
    "b_temporal = 15\n",
    "i_temporal = 16\n",
    "b_loc = 17\n",
    "i_loc = 18\n",
    "b_milplat = 19\n",
    "i_milplat = 20\n",
    "\n",
    "\n",
    "\n",
    "iob_dict = {\n",
    "    \"o\" : 0,\n",
    "    \"b-organisation\" : 1,\n",
    "    \"i-organisation\" : 2,\n",
    "    \"b-quantity\" : 3,\n",
    "    \"i-quantity\" : 4,\n",
    "    \"b-weapon\" : 5,\n",
    "    \"i-weapon\" : 6,\n",
    "    \"b-documentreference\" : 7,\n",
    "    \"i-documentreference\" : 8,\n",
    "    \"b-person\" : 9,\n",
    "    \"i-person\" : 10,\n",
    "    \"b-nationality\" : 11,\n",
    "    \"i-nationality\" : 12,\n",
    "    \"b-money\" : 13,\n",
    "    \"i-money\" : 14,\n",
    "    \"b-temporal\" : 15,\n",
    "    \"i-temporal\" : 16,\n",
    "    \"b-location\" : 17,\n",
    "    \"i-location\" : 18,\n",
    "    \"b-militaryplatform\" : 19,\n",
    "    \"i-militaryplatform\" : 20,\n",
    "}\n",
    "\n",
    "num_iob_tags = []\n",
    "for tok in iob_tags:\n",
    "    num_iob_tags.append(iob_dict[tok])\n",
    "\n",
    "num_iob_tags = np.array(num_iob_tags)"
   ]
  },
  {
   "cell_type": "code",
   "execution_count": 36,
   "metadata": {},
   "outputs": [],
   "source": [
    "# labeling functions\n",
    "def moneyLF(x):\n",
    "   i_lst = ['dinar','dinars','dollars','million','millions','donor','jordanian','billion','billions']\n",
    "   b_lst = ['$','£','wage','wages','salaries','money']\n",
    "\n",
    "   sent_dict = {}\n",
    "   for i in range(len(x)):\n",
    "      if x[i] in i_lst:\n",
    "         sent_dict[i] = i_money\n",
    "      if x[i] in b_lst:\n",
    "         sent_dict[i] = b_money\n",
    "\n",
    "   for i in range(len(x)):\n",
    "      if i+1< len(x) and sent_dict.get(i) != None and sent_dict[i] == b_money and sent_dict.get(i+1)==None:\n",
    "         sent_dict[i+1] = i_money\n",
    "\n",
    "      if i-1 >=0 and sent_dict.get(i) != None and sent_dict[i] == i_money and sent_dict.get(i-1)==None:\n",
    "         sent_dict[i-1] = b_money  \n",
    "\n",
    "   return sent_dict      \n",
    "\n",
    "\n",
    "\n",
    "def quantityLF(x):\n",
    "   i_lst = ['percent','miles','domains','million','millions','thousand','thousands','km','kms','mi','square','squares','m3','acre','acres','%','beds','plus','kilometers','kilometer']\n",
    "\n",
    "   sent_dict = {}\n",
    "   for i in range(len(x)):\n",
    "      if x[i] in i_lst:\n",
    "         sent_dict[i] = i_quan\n",
    "\n",
    "   for i in range(len(x)):\n",
    "      if i-1 >=0 and sent_dict.get(i) != None and sent_dict[i] == i_quan and sent_dict.get(i-1)==None:\n",
    "         sent_dict[i-1] = b_quan \n",
    "\n",
    "   return sent_dict \n",
    "\n",
    "# document reference LF\n",
    "def docLF(x):\n",
    "   i_lst = ['book','books','chapter','resolution','text','texts','report','reports']\n",
    "   b_lst = ['constitution','un','united nation','united nations','executive','executives']\n",
    "\n",
    "   sent_dict = {}\n",
    "   for i in range(len(x)):\n",
    "      if x[i] in i_lst:\n",
    "         sent_dict[i] = i_doc\n",
    "      if x[i] in b_lst:\n",
    "         sent_dict[i] = b_doc\n",
    "\n",
    "   for i in range(len(x)):\n",
    "      if i+1< len(x) and sent_dict.get(i) != None and sent_dict[i] == b_doc and sent_dict.get(i+1)==None:\n",
    "         sent_dict[i+1] = i_doc\n",
    "\n",
    "      if i-1 >=0 and sent_dict.get(i) != None and sent_dict[i] == i_doc and sent_dict.get(i-1)==None:\n",
    "         sent_dict[i-1] = b_doc \n",
    "\n",
    "   return sent_dict      \n",
    "\n",
    "def locLF(x):\n",
    "   b_lst = ['in', 'near', 'above', 'over', 'by', 'along', 'around']\n",
    "\n",
    "   sent_dict = {}\n",
    "   for i in range(len(x)):\n",
    "      if x[i] in b_lst:\n",
    "         sent_dict[i] = b_loc\n",
    "         if i+1<len(x):\n",
    "            sent_dict[i+1] = i_loc\n",
    "\n",
    "   return sent_dict\n",
    "\n",
    "def keywordMatching(s, words_list, iTAG, bTAG):\n",
    "   new_list = []\n",
    "   label_dict = dict()\n",
    "   for word in words_list:\n",
    "      new_list.append(word.lower())\n",
    "\n",
    "   for i, word in enumerate(s):\n",
    "      if word in new_list:\n",
    "         if i > 0 and i-1 in label_dict and label_dict[i-1] == iTAG:\n",
    "               label_dict[i] = iTAG\n",
    "         else:\n",
    "               label_dict[i] = bTAG\n",
    "   return label_dict\n",
    "\n",
    "def weaponLF(s):\n",
    "   label_dict = dict()\n",
    "   weapon_words_list = ['weapons','strikes','chemical','rocket','artillery','munitions','strike','VBIED','gun','mortar','propelled','heavy',\n",
    "                            'machine','VBIEDs','bombs','grenade','missile','bomb','barrel','launcher','front','end','weapon','systems','IED']\n",
    "   return keywordMatching(s, weapon_words_list, i_weapon, b_weapon)\n",
    "\n",
    "\n",
    "def nationalityLF(s):\n",
    "   label_dict = dict()\n",
    "   nationality_words_list =['Syrian','Iraqi','Kurdish','Yazidi','Arabic','Australian','Shia','Arab',\n",
    "                        'Islam','Shiite','German','Jordan','Israeli','Muslims','Yazidis','Kurmanji','Northern']\n",
    "   return keywordMatching(s, nationality_words_list, i_nationality, b_nationality)\n",
    "\n",
    "def orgLF(s):\n",
    "   org_words_list = ['forces', 'Iraq', 'Syrian', 'Coalition', 'United', 'people', 'Iraqi', 'group', 'government', 'regime', 'tactical', 'Forces', 'States', 'Government', 'international', 'Security', 'coalition', 'partners', 'Council', 'UN', 'ISIL', 'military', 'fighters', 'State', 'Department', 'units', 'UK', 'esh', 'community', 'U.S.', 'Command', 'civilians', 'security', 'parties', 'members', 'Force', 'unit', 'SDF', 'terrorist', 'victims', 'officials', 'Arab', 'terrorists', 'leaders', 'Central', 'residents', 'Levant', 'allies', 'Democratic', 'opposition', 'Army', 'families', 'Assad', 'family', 'two', 'Asad', 'Iraqis', 'Islamic', 'Joint', 'Union', 'Qaida', 'Nations', 'Syria', 'Group', 'Members', 'Air', 'Battalion', 'officers', 'organization', 'Marines', 'enemy', 'Task', 'EU', 'women', 'nations', 'friends', 'European', 'Syrians', 'countries']\n",
    "   return keywordMatching(s, org_words_list, i_org, b_org)  \n",
    "\n",
    "def temporalLF(s):\n",
    "   temporal_words_list = ['year', 'hours', 'days', 'December', 'years', '2006', 'week', '2016', 'November', 'past', 'last', 'day', 'months', 'Thanksgiving', 'Dec.', '15', '13', 'weeks', '2005', 'ago', 'Day', 'night', '26', 'end', '27', 'February', '2015', 'four', 'morning', '6', '10', '19', 'following', '2007', '7', 'festive', 'just', 'before', 'Muslim', 'Eid', 'celebration', '14th', 'later', '3', 'Z', 'Time', '2008', 'Sunday', 'May', '88', '91', 'first', 'long', '1979', 'January', 'eve', 'a', 'New', 'Year', '2013', 'month', 'a.m.', '29', '5', '1', '16', '18', 'coming', 'and', '2014', 'two', 'March', 'three', 'attack', 'minutes', 'June', 'from', 'late', 'to', 'early', 'evening', 'September', '20', 'plus', '6th', '7th', '25', '2011', 'summer', '2017', 'on', 'Thursday', '28', 'July', '2009', 'weekend', 'August', 'in', 'or', 'seven']\n",
    "   return keywordMatching(s, temporal_words_list, i_temporal, b_temporal)   \n",
    "\n",
    "def personLF(x):\n",
    "   return {}\n",
    "\n",
    "def militaryplatformLF(x):\n",
    "   return {}\n",
    "\n",
    "lfs = [\n",
    "   moneyLF,\n",
    "   quantityLF,\n",
    "   locLF,\n",
    "   nationalityLF,\n",
    "   weaponLF,\n",
    "   docLF,\n",
    "   orgLF,\n",
    "   temporalLF,\n",
    "   personLF,\n",
    "   militaryplatformLF\n",
    "]\n",
    "\n",
    "# apply labeling functions and transform label matrix \n",
    "labels = [[lf(s) for lf in lfs] for s in sents] \n",
    "\n",
    "# creating dense matrix\n",
    "n = 0\n",
    "for s in sents:\n",
    "    n+=len(s)\n",
    "m = len(lfs)\n",
    "mat = np.zeros((n,m))\n",
    "row = 0\n",
    "for i in range(len(labels)):\n",
    "    for col,dic in enumerate(labels[i]):\n",
    "        for key in dic:\n",
    "            mat[row+key][col] = dic[key]\n",
    "\n",
    "    row += len(sents[i])"
   ]
  },
  {
   "cell_type": "code",
   "execution_count": 37,
   "metadata": {},
   "outputs": [
    {
     "name": "stderr",
     "output_type": "stream",
     "text": [
      "INFO:root:Computing O...\n",
      "INFO:root:Estimating \\mu...\n",
      "  0%|          | 0/1000 [00:00<?, ?epoch/s]INFO:root:[0 epochs]: TRAIN:[loss=84.742]\n",
      "  9%|▉         | 90/1000 [00:00<00:02, 308.18epoch/s]INFO:root:[100 epochs]: TRAIN:[loss=0.959]\n",
      " 19%|█▊        | 187/1000 [00:00<00:02, 314.23epoch/s]INFO:root:[200 epochs]: TRAIN:[loss=0.379]\n",
      " 28%|██▊       | 282/1000 [00:00<00:02, 308.37epoch/s]INFO:root:[300 epochs]: TRAIN:[loss=0.200]\n",
      " 37%|███▋      | 374/1000 [00:01<00:02, 243.48epoch/s]INFO:root:[400 epochs]: TRAIN:[loss=0.124]\n",
      " 49%|████▉     | 493/1000 [00:01<00:01, 268.48epoch/s]INFO:root:[500 epochs]: TRAIN:[loss=0.084]\n",
      " 59%|█████▉    | 589/1000 [00:02<00:01, 298.46epoch/s]INFO:root:[600 epochs]: TRAIN:[loss=0.061]\n",
      " 68%|██████▊   | 684/1000 [00:02<00:01, 301.09epoch/s]INFO:root:[700 epochs]: TRAIN:[loss=0.046]\n",
      " 78%|███████▊  | 777/1000 [00:02<00:00, 291.67epoch/s]INFO:root:[800 epochs]: TRAIN:[loss=0.036]\n",
      " 90%|████████▉ | 898/1000 [00:03<00:00, 279.69epoch/s]INFO:root:[900 epochs]: TRAIN:[loss=0.029]\n",
      "100%|██████████| 1000/1000 [00:03<00:00, 286.62epoch/s]\n",
      "INFO:root:Finished Training\n"
     ]
    }
   ],
   "source": [
    "# increase the epochs\n",
    "from snorkel.labeling.model import LabelModel\n",
    "\n",
    "label_model = LabelModel(cardinality=20, verbose=True)\n",
    "label_model.fit(L_train=mat, n_epochs=1000, log_freq=100, seed=123)\n",
    "y_pred = label_model.predict(mat)"
   ]
  },
  {
   "cell_type": "code",
   "execution_count": 38,
   "metadata": {},
   "outputs": [
    {
     "name": "stdout",
     "output_type": "stream",
     "text": [
      "Accuracy of Weak Supervision approach is:  0.6502246630054918\n"
     ]
    }
   ],
   "source": [
    "# finding accuracy\n",
    "label_model_acc = label_model.score(L=mat, Y=num_iob_tags, tie_break_policy=\"random\")[\"accuracy\"]\n",
    "print('Accuracy of Weak Supervision approach is: ',label_model_acc)"
   ]
  },
  {
   "cell_type": "code",
   "execution_count": 43,
   "metadata": {},
   "outputs": [
    {
     "name": "stdout",
     "output_type": "stream",
     "text": [
      "                     precision    recall  f1-score   support\n",
      "\n",
      "                  o       0.73      0.92      0.82     13747\n",
      "     b-organisation       0.18      0.24      0.21      1104\n",
      "     i-organisation       1.00      0.00      0.00      1539\n",
      "         b-quantity       0.35      0.04      0.07       150\n",
      "         i-quantity       0.84      0.22      0.35        94\n",
      "           b-weapon       1.00      0.00      0.00        81\n",
      "           i-weapon       1.00      0.00      0.00        70\n",
      "b-documentreference       0.20      0.20      0.20        50\n",
      "i-documentreference       1.00      0.00      0.00       146\n",
      "           b-person       1.00      0.00      0.00       411\n",
      "           i-person       1.00      0.00      0.00       605\n",
      "      b-nationality       0.25      0.41      0.31        34\n",
      "      i-nationality       1.00      0.00      0.00         2\n",
      "            b-money       0.44      0.55      0.49        20\n",
      "            i-money       0.38      0.22      0.28        36\n",
      "         b-temporal       0.00      0.00      0.00       177\n",
      "         i-temporal       1.00      0.00      0.00       225\n",
      "         b-location       0.00      0.00      0.00       644\n",
      "         i-location       0.01      0.01      0.01       784\n",
      " b-militaryplatform       1.00      0.00      0.00        47\n",
      " i-militaryplatform       1.00      0.00      0.00        64\n",
      "\n",
      "           accuracy                           0.65     20030\n",
      "          macro avg       0.64      0.13      0.13     20030\n",
      "       weighted avg       0.68      0.65      0.58     20030\n",
      "\n"
     ]
    }
   ],
   "source": [
    "# classification report\n",
    "target_names = [\"o\",\"b-organisation\",\"i-organisation\",\"b-quantity\",\"i-quantity\",\"b-weapon\",\"i-weapon\",\"b-documentreference\",\"i-documentreference\",\"b-person\",\"i-person\",\"b-nationality\",\"i-nationality\",\"b-money\",\"i-money\",\"b-temporal\",\"i-temporal\",\"b-location\",\"i-location\",\"b-militaryplatform\",\"i-militaryplatform\"]\n",
    "print(classification_report(num_iob_tags, y_pred, target_names=target_names, zero_division=1))"
   ]
  },
  {
   "cell_type": "code",
   "execution_count": 40,
   "metadata": {},
   "outputs": [
    {
     "name": "stdout",
     "output_type": "stream",
     "text": [
      "Cumulative F1 Score:  0.5764331610174356\n"
     ]
    }
   ],
   "source": [
    "print('Cumulative F1 Score: ',f1_score(num_iob_tags, y_pred, average='weighted'))"
   ]
  },
  {
   "cell_type": "code",
   "execution_count": 42,
   "metadata": {},
   "outputs": [
    {
     "data": {
      "image/png": "[encoded data removed]",
      "text/plain": [
       "<Figure size 360x360 with 2 Axes>"
      ]
     },
     "metadata": {
      "needs_background": "light"
     },
     "output_type": "display_data"
    }
   ],
   "source": [
    "# Confusion Matrix\n",
    "cm = confusion_matrix(num_iob_tags, y_pred)\n",
    "cm_df = pd.DataFrame(cm,index = target_names, columns = target_names)\n",
    "\n",
    "#Plotting the confusion matrix\n",
    "plt.figure(figsize=(5,5))\n",
    "sns.heatmap(cm_df, annot=True)\n",
    "plt.title('Confusion Matrix')\n",
    "plt.ylabel('Actual Values')\n",
    "plt.xlabel('Predicted Values')\n",
    "plt.show()"
   ]
  },
  {
   "cell_type": "code",
   "execution_count": 29,
   "metadata": {},
   "outputs": [],
   "source": [
    "# snorkel labelled data\n",
    "iob_dict_reverse = {\n",
    "    0: \"o\",\n",
    "    1:\"b-organisation\",\n",
    "    2:\"i-organisation\",\n",
    "    3:\"b-quantity\",\n",
    "    4:\"i-quantity\",\n",
    "    5:\"b-weapon\",\n",
    "    6:\"i-weapon\",\n",
    "    7:\"b-documentreference\",\n",
    "    8:\"i-documentreference\",\n",
    "    9:\"b-person\",\n",
    "    10:\"i-person\",\n",
    "    11:\"b-nationality\",\n",
    "    12:\"i-nationality\",\n",
    "    13:\"b-money\",\n",
    "    14:\"i-money\",\n",
    "    15:\"b-temporal\",\n",
    "    16:\"i-temporal\",\n",
    "    17:\"b-location\",\n",
    "    18:\"i-location\",\n",
    "    19:\"b-militaryplatform\",\n",
    "    20:\"i-militaryplatform\"\n",
    "}\n",
    "\n",
    "str = ''\n",
    "cnt = 0\n",
    "for sen in sents:\n",
    "    for i in range(len(sen)):\n",
    "        str += sen[i]\n",
    "        str += '\\t'\n",
    "        str += iob_dict_reverse[y_pred[cnt]]\n",
    "        str += '\\n'\n",
    "        cnt += 1\n",
    "\n",
    "    str += '\\n'\n",
    "\n",
    "\n",
    "f = open('./re3d/snorkel_labelled_25k.txt','w')\n",
    "f.write(str)\n",
    "f.close()"
   ]
  },
  {
   "cell_type": "code",
   "execution_count": null,
   "metadata": {},
   "outputs": [],
   "source": []
  }
 ],
 "metadata": {
  "interpreter": {
   "hash": "05846dba5a63881521995e4873c40bc366d65f96d65e5e13c55171c3c8697e3d"
  },
  "kernelspec": {
   "display_name": "Python 3.10.4 ('.cv0env')",
   "language": "python",
   "name": "python3"
  },
  "language_info": {
   "codemirror_mode": {
    "name": "ipython",
    "version": 3
   },
   "file_extension": ".py",
   "mimetype": "text/x-python",
   "name": "python",
   "nbconvert_exporter": "python",
   "pygments_lexer": "ipython3",
   "version": "3.8.10"
  },
  "orig_nbformat": 4
 },
 "nbformat": 4,
 "nbformat_minor": 2
}
