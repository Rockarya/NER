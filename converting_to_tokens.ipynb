{
 "cells": [
  {
   "cell_type": "code",
   "execution_count": 1,
   "metadata": {},
   "outputs": [],
   "source": [
    "import numpy as np \n",
    "from scipy.sparse import dok_matrix, vstack, csr_matrix\n",
    "from snorkel.labeling import PandasLFApplier, LFApplier, LFAnalysis, labeling_function\n",
    "from sklearn.metrics import classification_report\n",
    "import seaborn as sns\n",
    "import matplotlib.pyplot as plt\n",
    "import pandas as pd\n",
    "from sklearn.metrics import confusion_matrix\n",
    "from sklearn.metrics import f1_score"
   ]
  },
  {
   "cell_type": "code",
   "execution_count": 2,
   "metadata": {},
   "outputs": [],
   "source": [
    "sents = []\n",
    "iob_tags = []\n",
    "text = \"\"\n",
    "filename = './conll2003/train.txt'\n",
    "\n",
    "with open(filename, 'r') as file:\n",
    "    lst = []\n",
    "    while True:\n",
    "        word_lst = file.readline().lower().split(\" \")\n",
    "        word = word_lst[0]\n",
    "        if not word:\n",
    "            break\n",
    "        text += \" \" + word\n",
    "\n",
    "        if word == '\\n':\n",
    "            sents.append(lst)\n",
    "            lst = []\n",
    "        else:\n",
    "            lst.append(word)\n",
    "            iob_tags.append(word_lst[-1].split('\\n')[0])\n",
    "\n",
    "    sents.append(lst)"
   ]
  },
  {
   "cell_type": "code",
   "execution_count": 3,
   "metadata": {},
   "outputs": [
    {
     "name": "stdout",
     "output_type": "stream",
     "text": [
      "204567 204567\n"
     ]
    }
   ],
   "source": [
    "c = 0\n",
    "for i in range(len(sents)):\n",
    "    c+=len(sents[i])\n",
    "\n",
    "print(c,len(iob_tags))"
   ]
  },
  {
   "cell_type": "code",
   "execution_count": 4,
   "metadata": {},
   "outputs": [
    {
     "name": "stdout",
     "output_type": "stream",
     "text": [
      "{'b-per', 'i-org', 'o', 'b-org', 'b-loc', 'i-per', 'i-loc', 'i-misc', 'b-misc'}\n"
     ]
    }
   ],
   "source": [
    "dist = set()\n",
    "for tok in iob_tags:\n",
    "    dist.add(tok)\n",
    "\n",
    "print(dist)"
   ]
  },
  {
   "cell_type": "code",
   "execution_count": 5,
   "metadata": {},
   "outputs": [],
   "source": [
    "# snorkel labelled data\n",
    "iob_dict = {'i-org': 'i-organisation', 'b-loc': 'b-location', 'b-misc': 'o', 'o': 'o', 'i-loc': 'i-location', 'i-per': 'i-person', 'i-misc': 'o', 'b-org': 'b-organisation', 'b-per': 'b-person'}\n",
    "\n",
    "str = ''\n",
    "cnt = 0\n",
    "for sen in sents:\n",
    "    for i in range(len(sen)):\n",
    "        str += sen[i]\n",
    "        str += '\\n'\n",
    "        cnt += 1\n",
    "\n",
    "    str += '\\n'\n",
    "\n",
    "\n",
    "f = open('./conll2003/train_tokens.txt','w')\n",
    "f.write(str)\n",
    "f.close()"
   ]
  },
  {
   "cell_type": "code",
   "execution_count": null,
   "metadata": {},
   "outputs": [],
   "source": []
  }
 ],
 "metadata": {
  "interpreter": {
   "hash": "916dbcbb3f70747c44a77c7bcd40155683ae19c65e1c03b4aa3499c5328201f1"
  },
  "kernelspec": {
   "display_name": "Python 3.8.10 64-bit",
   "language": "python",
   "name": "python3"
  },
  "language_info": {
   "codemirror_mode": {
    "name": "ipython",
    "version": 3
   },
   "file_extension": ".py",
   "mimetype": "text/x-python",
   "name": "python",
   "nbconvert_exporter": "python",
   "pygments_lexer": "ipython3",
   "version": "3.8.10"
  },
  "orig_nbformat": 4
 },
 "nbformat": 4,
 "nbformat_minor": 2
}
